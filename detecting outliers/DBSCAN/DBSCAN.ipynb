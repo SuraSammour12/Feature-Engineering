{
  "nbformat": 4,
  "nbformat_minor": 0,
  "metadata": {
    "colab": {
      "provenance": []
    },
    "kernelspec": {
      "name": "python3",
      "display_name": "Python 3"
    },
    "language_info": {
      "name": "python"
    }
  },
  "cells": [
    {
      "cell_type": "markdown",
      "source": [
        "**Outliers Identification Using AI**\n",
        "\n",
        "DBSCAN : Density-Based Spatial Clustering of Applications with Noise"
      ],
      "metadata": {
        "id": "fQA14wK7_zhu"
      }
    },
    {
      "cell_type": "code",
      "source": [
        "import pandas as pd\n",
        "from matplotlib import pyplot as plt\n",
        "\n",
        "from collections import Counter\n",
        "\n",
        "%matplotlib inline"
      ],
      "metadata": {
        "id": "UQWxzKiiA0EJ"
      },
      "execution_count": 1,
      "outputs": []
    },
    {
      "cell_type": "code",
      "source": [
        "df_raw=pd.read_csv('creditcard.csv')\n",
        "df=df_raw.drop(['Time'],axis=1)\n",
        ""
      ],
      "metadata": {
        "id": "WoIPay4cbsRp"
      },
      "execution_count": 2,
      "outputs": []
    },
    {
      "cell_type": "code",
      "source": [
        "feature_list = ['V1', 'V2', 'V3', 'V4', 'V5', 'V6', 'V7', 'V8', 'V9', 'V10', 'V11',\n",
        "                'V12', 'V13', 'V14', 'V15', 'V16', 'V17', 'V18', 'V19', 'V20', 'V21',\n",
        "                'V22', 'V23', 'V24', 'V25', 'V26', 'V27', 'V28', 'Amount']"
      ],
      "metadata": {
        "id": "7bI-yh3ibwPM"
      },
      "execution_count": 3,
      "outputs": []
    },
    {
      "cell_type": "markdown",
      "source": [
        "Detecting Outliers Using DBSCAN"
      ],
      "metadata": {
        "id": "XHWTaawSb5gA"
      }
    },
    {
      "cell_type": "markdown",
      "source": [
        " The DBSCAN training code has been commented out because it is computationally intensive and can take a significant amount of time to execute on large datasets."
      ],
      "metadata": {
        "id": "QRfhy4Fof77d"
      }
    },
    {
      "cell_type": "code",
      "source": [
        "df6=df.drop(['Class'],axis=1)"
      ],
      "metadata": {
        "id": "7WYn_HLTb-7c"
      },
      "execution_count": 4,
      "outputs": []
    },
    {
      "cell_type": "code",
      "source": [
        "from sklearn.cluster import DBSCAN\n",
        "from sklearn.preprocessing import StandardScaler\n",
        "from scipy.sparse import csr_matrix\n",
        "\n",
        "# Scale data first\n",
        "x=StandardScaler().fit_transform(df6.values)\n",
        "x_sparse=csr_matrix(x)\n",
        "\n",
        "#db=DBSCAN(eps=3.0,min_samples=10).fit(x_sparse)\n",
        "#labels=db.labels_"
      ],
      "metadata": {
        "id": "pgp4qir-cJG3"
      },
      "execution_count": 5,
      "outputs": []
    },
    {
      "cell_type": "code",
      "source": [
        "#n_clusters=len(set(labels))-(1  if -1 in labels else 0)\n",
        "#print('The number of clusters in dataset is: ',n_clusters_)"
      ],
      "metadata": {
        "id": "sygNJxeRdQkd"
      },
      "execution_count": 6,
      "outputs": []
    },
    {
      "cell_type": "code",
      "source": [
        "#pd.Series(labels).value_counts()"
      ],
      "metadata": {
        "id": "YxZAz2HAepLb"
      },
      "execution_count": 7,
      "outputs": []
    }
  ]
}