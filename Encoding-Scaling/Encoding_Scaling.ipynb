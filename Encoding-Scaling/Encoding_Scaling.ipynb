{
  "nbformat": 4,
  "nbformat_minor": 0,
  "metadata": {
    "colab": {
      "provenance": []
    },
    "kernelspec": {
      "name": "python3",
      "display_name": "Python 3"
    },
    "language_info": {
      "name": "python"
    }
  },
  "cells": [
    {
      "cell_type": "markdown",
      "source": [
        "  **Encoding Categorical Features.**"
      ],
      "metadata": {
        "id": "Qyx6JfzBvRP1"
      }
    },
    {
      "cell_type": "code",
      "source": [
        "import pandas as pd\n",
        "from sklearn.datasets import load_iris\n",
        "from sklearn.preprocessing import OneHotEncoder , OrdinalEncoder\n",
        "\n",
        "# Load the Iris dataset\n",
        "data = load_iris()\n",
        "df = pd.DataFrame(data.data , columns=data.feature_names)\n",
        "df['species'] = data.target # this will add the species (target) as a categorical feature\n",
        "\n",
        "# Map species target (0,1,2) to actual names for demonstration\n",
        "df['species'] = df['species'].map({0:'setosa',1:'versicolor',2:'virginica'})\n",
        "\n",
        "# Hypothetical Ordinal Feature\n",
        "# Let's add an example ordinal feature 'petal_size' to demonstrate ordinal encoding\n",
        "# Assume 'petal_size' has levels:'small','medium','large'\n",
        "df['petal_size'] = pd.cut(df['petal length (cm)'],bins=[0,2,4,10],labels=['small','medium','large'])\n",
        "\n",
        "# Display the initial dataset with the added features\n",
        "print('Initial DataFrame with Nominal and Ordinal Features:\\n',df.tail())\n",
        "\n",
        "#------------------------\n",
        "# Nominal Encoding\n",
        "#------------------------\n",
        "\n",
        "# Encoding 'species' using OneHotEncoder for nominal data\n",
        "onehot_encoder = OneHotEncoder(sparse_output=False)\n",
        "species_encoded = onehot_encoder.fit_transform(df[['species']])\n",
        "\n",
        "# Convert the encoded columns to DataFrame with feature names\n",
        "species_encoded_df = pd.DataFrame(species_encoded ,columns=onehot_encoder.get_feature_names_out(['species']))\n",
        "df = pd.concat([df,species_encoded_df],axis=1)\n",
        "print(df.tail())\n",
        "\n",
        "#------------------------\n",
        "# Ordinal Encoding\n",
        "#------------------------\n",
        "\n",
        "# Encoding 'petal_size' using OrdinalEncoder for ordinal data\n",
        "ordinal_encoder = OrdinalEncoder(categories=[['small','medium','large']])\n",
        "df['petal_size_encoded'] = ordinal_encoder.fit_transform(df[['petal_size']])\n",
        "\n",
        "# Drop original categorical columns if desired\n",
        "print(df.tail())\n",
        "df=df.drop(columns=['species','petal_size'])\n",
        "\n",
        "# Display the transformed DataFrame\n",
        "print('\\nTransformed DataFrame with Encoded Nominal and Ordinal Features:\\n',df.head())"
      ],
      "metadata": {
        "colab": {
          "base_uri": "https://localhost:8080/"
        },
        "id": "cM0mLkc6vU69",
        "outputId": "411aced7-b886-44a7-ce15-5fc1f5e6207a"
      },
      "execution_count": 1,
      "outputs": [
        {
          "output_type": "stream",
          "name": "stdout",
          "text": [
            "Initial DataFrame with Nominal and Ordinal Features:\n",
            "      sepal length (cm)  sepal width (cm)  petal length (cm)  petal width (cm)  \\\n",
            "145                6.7               3.0                5.2               2.3   \n",
            "146                6.3               2.5                5.0               1.9   \n",
            "147                6.5               3.0                5.2               2.0   \n",
            "148                6.2               3.4                5.4               2.3   \n",
            "149                5.9               3.0                5.1               1.8   \n",
            "\n",
            "       species petal_size  \n",
            "145  virginica      large  \n",
            "146  virginica      large  \n",
            "147  virginica      large  \n",
            "148  virginica      large  \n",
            "149  virginica      large  \n",
            "     sepal length (cm)  sepal width (cm)  petal length (cm)  petal width (cm)  \\\n",
            "145                6.7               3.0                5.2               2.3   \n",
            "146                6.3               2.5                5.0               1.9   \n",
            "147                6.5               3.0                5.2               2.0   \n",
            "148                6.2               3.4                5.4               2.3   \n",
            "149                5.9               3.0                5.1               1.8   \n",
            "\n",
            "       species petal_size  species_setosa  species_versicolor  \\\n",
            "145  virginica      large             0.0                 0.0   \n",
            "146  virginica      large             0.0                 0.0   \n",
            "147  virginica      large             0.0                 0.0   \n",
            "148  virginica      large             0.0                 0.0   \n",
            "149  virginica      large             0.0                 0.0   \n",
            "\n",
            "     species_virginica  \n",
            "145                1.0  \n",
            "146                1.0  \n",
            "147                1.0  \n",
            "148                1.0  \n",
            "149                1.0  \n",
            "     sepal length (cm)  sepal width (cm)  petal length (cm)  petal width (cm)  \\\n",
            "145                6.7               3.0                5.2               2.3   \n",
            "146                6.3               2.5                5.0               1.9   \n",
            "147                6.5               3.0                5.2               2.0   \n",
            "148                6.2               3.4                5.4               2.3   \n",
            "149                5.9               3.0                5.1               1.8   \n",
            "\n",
            "       species petal_size  species_setosa  species_versicolor  \\\n",
            "145  virginica      large             0.0                 0.0   \n",
            "146  virginica      large             0.0                 0.0   \n",
            "147  virginica      large             0.0                 0.0   \n",
            "148  virginica      large             0.0                 0.0   \n",
            "149  virginica      large             0.0                 0.0   \n",
            "\n",
            "     species_virginica  petal_size_encoded  \n",
            "145                1.0                 2.0  \n",
            "146                1.0                 2.0  \n",
            "147                1.0                 2.0  \n",
            "148                1.0                 2.0  \n",
            "149                1.0                 2.0  \n",
            "\n",
            "Transformed DataFrame with Encoded Nominal and Ordinal Features:\n",
            "    sepal length (cm)  sepal width (cm)  petal length (cm)  petal width (cm)  \\\n",
            "0                5.1               3.5                1.4               0.2   \n",
            "1                4.9               3.0                1.4               0.2   \n",
            "2                4.7               3.2                1.3               0.2   \n",
            "3                4.6               3.1                1.5               0.2   \n",
            "4                5.0               3.6                1.4               0.2   \n",
            "\n",
            "   species_setosa  species_versicolor  species_virginica  petal_size_encoded  \n",
            "0             1.0                 0.0                0.0                 0.0  \n",
            "1             1.0                 0.0                0.0                 0.0  \n",
            "2             1.0                 0.0                0.0                 0.0  \n",
            "3             1.0                 0.0                0.0                 0.0  \n",
            "4             1.0                 0.0                0.0                 0.0  \n"
          ]
        }
      ]
    },
    {
      "cell_type": "markdown",
      "source": [
        "The table now contains:\n",
        "\n",
        "Original numerical features (sepal and petal lengths and widths).\n",
        "One-Hot columns representing flower species.\n",
        "Numeric encoding for petal size.\n",
        "\n",
        "Purpose of the code:\n",
        "\n",
        "Convert textual data into numerical form suitable for machine learning algorithms.\n",
        "Use OneHotEncoder to handle nominal data.\n",
        "Use OrdinalEncoder to handle ordinal data.\n",
        "\n",
        "_______________________________________________________________________________________________________________\n",
        "\n"
      ],
      "metadata": {
        "id": "ZGflPVFfDLul"
      }
    },
    {
      "cell_type": "markdown",
      "source": [
        "Scaling Techniques"
      ],
      "metadata": {
        "id": "dn1949sDDOHZ"
      }
    },
    {
      "cell_type": "code",
      "source": [
        "import pandas as pd\n",
        "from sklearn.datasets import fetch_california_housing\n",
        "from sklearn.preprocessing import MinMaxScaler,StandardScaler,RobustScaler\n",
        "\n",
        "# Load the california Housing dataset (replace the deprecated Boston dataset)\n",
        "data = fetch_california_housing()\n",
        "df = pd.DataFrame(data.data,columns=data.feature_names)\n",
        "\n",
        "# Display initial feature ranges\n",
        "print('Initial feature ranges:\\n',df.describe())\n",
        "\n",
        "# Min-Max Scaling\n",
        "min_max_scaler = MinMaxScaler()\n",
        "df_min_max_scaled = pd.DataFrame(min_max_scaler.fit_transform(df),columns=df.columns)\n",
        "\n",
        "print('Feature ranges after Min-Max Scaling:\\n',df_min_max_scaled.describe())\n",
        "\n",
        "# Standardization (Z-Score Scaling)\n",
        "z_score_scaler = StandardScaler()\n",
        "df_z_score_scaled = pd.DataFrame(z_score_scaler.fit_transform(df),columns=df.columns)\n",
        "\n",
        "print('\\nFeature ranges after Z-Score Scaling:\\n',df_z_score_scaled.describe())\n",
        "\n",
        "# Robust Scaling\n",
        "robust_scaler = RobustScaler()\n",
        "df_robust_scaled = pd.DataFrame(robust_scaler.fit_transform(df),columns=df.columns)\n",
        "\n",
        "print('\\nFeature ranges after Robust Scaling:\\n',df_robust_scaled.describe())"
      ],
      "metadata": {
        "colab": {
          "base_uri": "https://localhost:8080/"
        },
        "id": "2VHsxxSvDZsF",
        "outputId": "1d87754a-5888-4018-bee2-57fb2bd08f6f"
      },
      "execution_count": 1,
      "outputs": [
        {
          "output_type": "stream",
          "name": "stdout",
          "text": [
            "Initial feature ranges:\n",
            "              MedInc      HouseAge      AveRooms  ...      AveOccup      Latitude     Longitude\n",
            "count  20640.000000  20640.000000  20640.000000  ...  20640.000000  20640.000000  20640.000000\n",
            "mean       3.870671     28.639486      5.429000  ...      3.070655     35.631861   -119.569704\n",
            "std        1.899822     12.585558      2.474173  ...     10.386050      2.135952      2.003532\n",
            "min        0.499900      1.000000      0.846154  ...      0.692308     32.540000   -124.350000\n",
            "25%        2.563400     18.000000      4.440716  ...      2.429741     33.930000   -121.800000\n",
            "50%        3.534800     29.000000      5.229129  ...      2.818116     34.260000   -118.490000\n",
            "75%        4.743250     37.000000      6.052381  ...      3.282261     37.710000   -118.010000\n",
            "max       15.000100     52.000000    141.909091  ...   1243.333333     41.950000   -114.310000\n",
            "\n",
            "[8 rows x 8 columns]\n",
            "Feature ranges after Min-Max Scaling:\n",
            "              MedInc      HouseAge      AveRooms  ...      AveOccup      Latitude     Longitude\n",
            "count  20640.000000  20640.000000  20640.000000  ...  20640.000000  20640.000000  20640.000000\n",
            "mean       0.232464      0.541951      0.032488  ...      0.001914      0.328572      0.476125\n",
            "std        0.131020      0.246776      0.017539  ...      0.008358      0.226988      0.199555\n",
            "min        0.000000      0.000000      0.000000  ...      0.000000      0.000000      0.000000\n",
            "25%        0.142308      0.333333      0.025482  ...      0.001398      0.147715      0.253984\n",
            "50%        0.209301      0.549020      0.031071  ...      0.001711      0.182784      0.583665\n",
            "75%        0.292641      0.705882      0.036907  ...      0.002084      0.549416      0.631474\n",
            "max        1.000000      1.000000      1.000000  ...      1.000000      1.000000      1.000000\n",
            "\n",
            "[8 rows x 8 columns]\n",
            "\n",
            "Feature ranges after Z-Score Scaling:\n",
            "              MedInc      HouseAge      AveRooms  ...      AveOccup      Latitude     Longitude\n",
            "count  2.064000e+04  2.064000e+04  2.064000e+04  ...  2.064000e+04  2.064000e+04  2.064000e+04\n",
            "mean   6.609700e-17  5.508083e-18  6.609700e-17  ...  3.442552e-18 -1.079584e-15 -8.526513e-15\n",
            "std    1.000024e+00  1.000024e+00  1.000024e+00  ...  1.000024e+00  1.000024e+00  1.000024e+00\n",
            "min   -1.774299e+00 -2.196180e+00 -1.852319e+00  ... -2.290000e-01 -1.447568e+00 -2.385992e+00\n",
            "25%   -6.881186e-01 -8.453931e-01 -3.994496e-01  ... -6.171062e-02 -7.967887e-01 -1.113209e+00\n",
            "50%   -1.767951e-01  2.864572e-02 -8.078489e-02  ... -2.431585e-02 -6.422871e-01  5.389137e-01\n",
            "75%    4.593063e-01  6.643103e-01  2.519615e-01  ...  2.037453e-02  9.729566e-01  7.784964e-01\n",
            "max    5.858286e+00  1.856182e+00  5.516324e+01  ...  1.194191e+02  2.958068e+00  2.625280e+00\n",
            "\n",
            "[8 rows x 8 columns]\n",
            "\n",
            "Feature ranges after Robust Scaling:\n",
            "              MedInc      HouseAge      AveRooms  ...      AveOccup      Latitude     Longitude\n",
            "count  2.064000e+04  20640.000000  20640.000000  ...  20640.000000  20640.000000  20640.000000\n",
            "mean   1.540799e-01     -0.018974      0.124015  ...      0.296227      0.362926     -0.284882\n",
            "std    8.715378e-01      0.662398      1.535166  ...     12.182767      0.565067      0.528636\n",
            "min   -1.392252e+00     -1.473684     -2.719533  ...     -2.493559     -0.455026     -1.546174\n",
            "25%   -4.456270e-01     -0.578947     -0.489191  ...     -0.455561     -0.087302     -0.873351\n",
            "50%    1.018608e-16      0.000000      0.000000  ...      0.000000      0.000000      0.000000\n",
            "75%    5.543730e-01      0.421053      0.510809  ...      0.544439      0.912698      0.126649\n",
            "max    5.259674e+00      1.210526     84.806698  ...   1455.116059      2.034392      1.102902\n",
            "\n",
            "[8 rows x 8 columns]\n"
          ]
        }
      ]
    }
  ]
}